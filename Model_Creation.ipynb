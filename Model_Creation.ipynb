{
 "cells": [
  {
   "cell_type": "code",
   "execution_count": 18,
   "id": "2d0c8b87-3d4c-432a-8890-055ca6f927c8",
   "metadata": {},
   "outputs": [],
   "source": [
    "import tensorflow as tf\n",
    "from tensorflow import keras\n",
    "from tensorflow.keras import layers\n",
    "import matplotlib.pyplot as plt\n",
    "import numpy as np\n",
    "import os\n",
    "from tensorflow.keras.preprocessing.image import ImageDataGenerator\n",
    "import streamlit as st\n",
    "\n"
   ]
  },
  {
   "cell_type": "code",
   "execution_count": 19,
   "id": "c72ecf06-62de-4515-ad71-3e4556549b32",
   "metadata": {},
   "outputs": [],
   "source": [
    "# Download and extract dataset\n",
    "\n",
    "data_dir = 'cats_and_dogs_filtered/cats_and_dogs_filtered/'\n"
   ]
  },
  {
   "cell_type": "code",
   "execution_count": 20,
   "id": "ff3a2821-7fc7-4372-b838-380c57d7a5fa",
   "metadata": {},
   "outputs": [
    {
     "data": {
      "text/plain": [
       "'cats_and_dogs_filtered/cats_and_dogs_filtered/'"
      ]
     },
     "execution_count": 20,
     "metadata": {},
     "output_type": "execute_result"
    }
   ],
   "source": [
    "data_dir"
   ]
  },
  {
   "cell_type": "code",
   "execution_count": 21,
   "id": "c1b0611d-4c00-4471-aabf-0ff114cea6ff",
   "metadata": {},
   "outputs": [],
   "source": [
    "\n",
    "train_dir = os.path.join(data_dir, 'train')\n",
    "validation_dir = os.path.join(data_dir, 'validation')\n",
    "\n"
   ]
  },
  {
   "cell_type": "code",
   "execution_count": 22,
   "id": "ca27cdca-0d15-4735-8d85-13700d9caff4",
   "metadata": {},
   "outputs": [
    {
     "data": {
      "text/plain": [
       "56"
      ]
     },
     "execution_count": 22,
     "metadata": {},
     "output_type": "execute_result"
    }
   ],
   "source": [
    "len(validation_dir)"
   ]
  },
  {
   "cell_type": "code",
   "execution_count": 23,
   "id": "3abac96c-47e6-4d97-95d1-0b39a2f8db4e",
   "metadata": {},
   "outputs": [],
   "source": [
    "# Image Data Generators\n",
    "train_datagen = ImageDataGenerator(rescale=1./255, shear_range=0.2, zoom_range=0.2, horizontal_flip=True)\n",
    "val_datagen = ImageDataGenerator(rescale=1./255)\n",
    "\n"
   ]
  },
  {
   "cell_type": "code",
   "execution_count": 24,
   "id": "d00e17f9-9879-47f3-8539-02fb2d93d21a",
   "metadata": {},
   "outputs": [
    {
     "name": "stdout",
     "output_type": "stream",
     "text": [
      "Found 2000 images belonging to 2 classes.\n",
      "Found 1000 images belonging to 2 classes.\n"
     ]
    }
   ],
   "source": [
    "train_generator = train_datagen.flow_from_directory(train_dir, target_size=(150, 150), batch_size=32, class_mode='binary')\n",
    "validation_generator = val_datagen.flow_from_directory(validation_dir, target_size=(150, 150), batch_size=32, class_mode='binary')"
   ]
  },
  {
   "cell_type": "code",
   "execution_count": 25,
   "id": "19c19c7e-0e8e-4793-a930-9f90bcd15902",
   "metadata": {},
   "outputs": [],
   "source": [
    "# CNN Model\n",
    "model = keras.Sequential([\n",
    "    layers.Conv2D(32, (3,3), activation='relu', input_shape=(150, 150, 3)),\n",
    "    layers.MaxPooling2D(2,2),\n",
    "    layers.Conv2D(64, (3,3), activation='relu'),\n",
    "    layers.MaxPooling2D(2,2),\n",
    "    layers.Conv2D(128, (3,3), activation='relu'),\n",
    "    layers.MaxPooling2D(2,2),\n",
    "    layers.Flatten(),\n",
    "    layers.Dense(512, activation='relu'),\n",
    "    layers.Dense(1, activation='sigmoid')\n",
    "])\n",
    "\n"
   ]
  },
  {
   "cell_type": "code",
   "execution_count": 26,
   "id": "28182dfe-0ad5-4d55-96e9-6dbbad2494fc",
   "metadata": {},
   "outputs": [],
   "source": [
    "# Compile Model\n",
    "model.compile(loss='binary_crossentropy', optimizer='adam', metrics=['accuracy'])\n",
    "\n"
   ]
  },
  {
   "cell_type": "code",
   "execution_count": 28,
   "id": "38cfe30c-a189-44f0-a236-e331de238bdb",
   "metadata": {},
   "outputs": [
    {
     "name": "stdout",
     "output_type": "stream",
     "text": [
      "Epoch 1/10\n",
      "\u001b[1m63/63\u001b[0m \u001b[32m━━━━━━━━━━━━━━━━━━━━\u001b[0m\u001b[37m\u001b[0m \u001b[1m34s\u001b[0m 538ms/step - accuracy: 0.7351 - loss: 0.5553 - val_accuracy: 0.7130 - val_loss: 0.5726\n",
      "Epoch 2/10\n",
      "\u001b[1m63/63\u001b[0m \u001b[32m━━━━━━━━━━━━━━━━━━━━\u001b[0m\u001b[37m\u001b[0m \u001b[1m33s\u001b[0m 524ms/step - accuracy: 0.7334 - loss: 0.5385 - val_accuracy: 0.6690 - val_loss: 0.5901\n",
      "Epoch 3/10\n",
      "\u001b[1m63/63\u001b[0m \u001b[32m━━━━━━━━━━━━━━━━━━━━\u001b[0m\u001b[37m\u001b[0m \u001b[1m32s\u001b[0m 506ms/step - accuracy: 0.7250 - loss: 0.5522 - val_accuracy: 0.7180 - val_loss: 0.5462\n",
      "Epoch 4/10\n",
      "\u001b[1m63/63\u001b[0m \u001b[32m━━━━━━━━━━━━━━━━━━━━\u001b[0m\u001b[37m\u001b[0m \u001b[1m33s\u001b[0m 523ms/step - accuracy: 0.7421 - loss: 0.5167 - val_accuracy: 0.7070 - val_loss: 0.5568\n",
      "Epoch 5/10\n",
      "\u001b[1m63/63\u001b[0m \u001b[32m━━━━━━━━━━━━━━━━━━━━\u001b[0m\u001b[37m\u001b[0m \u001b[1m32s\u001b[0m 506ms/step - accuracy: 0.7802 - loss: 0.4817 - val_accuracy: 0.7030 - val_loss: 0.5974\n",
      "Epoch 6/10\n",
      "\u001b[1m63/63\u001b[0m \u001b[32m━━━━━━━━━━━━━━━━━━━━\u001b[0m\u001b[37m\u001b[0m \u001b[1m34s\u001b[0m 541ms/step - accuracy: 0.7769 - loss: 0.4770 - val_accuracy: 0.7370 - val_loss: 0.5457\n",
      "Epoch 7/10\n",
      "\u001b[1m63/63\u001b[0m \u001b[32m━━━━━━━━━━━━━━━━━━━━\u001b[0m\u001b[37m\u001b[0m \u001b[1m33s\u001b[0m 521ms/step - accuracy: 0.7869 - loss: 0.4567 - val_accuracy: 0.7530 - val_loss: 0.5187\n",
      "Epoch 8/10\n",
      "\u001b[1m63/63\u001b[0m \u001b[32m━━━━━━━━━━━━━━━━━━━━\u001b[0m\u001b[37m\u001b[0m \u001b[1m32s\u001b[0m 499ms/step - accuracy: 0.8185 - loss: 0.4071 - val_accuracy: 0.7540 - val_loss: 0.5373\n",
      "Epoch 9/10\n",
      "\u001b[1m63/63\u001b[0m \u001b[32m━━━━━━━━━━━━━━━━━━━━\u001b[0m\u001b[37m\u001b[0m \u001b[1m31s\u001b[0m 496ms/step - accuracy: 0.8010 - loss: 0.4209 - val_accuracy: 0.7530 - val_loss: 0.5115\n",
      "Epoch 10/10\n",
      "\u001b[1m63/63\u001b[0m \u001b[32m━━━━━━━━━━━━━━━━━━━━\u001b[0m\u001b[37m\u001b[0m \u001b[1m32s\u001b[0m 502ms/step - accuracy: 0.8218 - loss: 0.3980 - val_accuracy: 0.7380 - val_loss: 0.5962\n"
     ]
    }
   ],
   "source": [
    "# Train Model\n",
    "epochs = 10\n",
    "history = model.fit(train_generator, validation_data=validation_generator, epochs=epochs)\n",
    "\n"
   ]
  },
  {
   "cell_type": "code",
   "execution_count": 29,
   "id": "ec26d358-10f7-49c6-a98e-d48606e39c51",
   "metadata": {},
   "outputs": [
    {
     "name": "stderr",
     "output_type": "stream",
     "text": [
      "WARNING:absl:You are saving your model as an HDF5 file via `model.save()` or `keras.saving.save_model(model)`. This file format is considered legacy. We recommend using instead the native Keras format, e.g. `model.save('my_model.keras')` or `keras.saving.save_model(model, 'my_model.keras')`. \n"
     ]
    }
   ],
   "source": [
    "# Save Model\n",
     "model = tf.keras.models.load_model("\cat_dog_classifier1.h5\")\n",
     "model.save(\"cat_dog_classifier1.keras\")\n",
    "\n"
   ]
  },
  {
   "cell_type": "code",
   "execution_count": 30,
   "id": "e3ac2192-dd01-49bf-8bd8-d51d71844b9a",
   "metadata": {},
   "outputs": [
    {
     "data": {
      "image/png": "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",
      "text/plain": [
       "<Figure size 640x480 with 1 Axes>"
      ]
     },
     "metadata": {},
     "output_type": "display_data"
    }
   ],
   "source": [
    "# Plot Training History\n",
    "plt.plot(history.history['accuracy'], label='accuracy')\n",
    "plt.plot(history.history['val_accuracy'], label = 'val_accuracy')\n",
    "plt.xlabel('Epoch')\n",
    "plt.ylabel('Accuracy')\n",
    "plt.ylim([0, 1])\n",
    "plt.legend(loc='lower right')\n",
    "plt.show()"
   ]
  },
  {
   "cell_type": "code",
   "execution_count": 31,
   "id": "78f01b54-93a7-4933-9d1b-63f3533d9514",
   "metadata": {},
   "outputs": [
    {
     "data": {
      "image/png": "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",
      "text/plain": [
       "<Figure size 640x480 with 1 Axes>"
      ]
     },
     "metadata": {},
     "output_type": "display_data"
    }
   ],
   "source": [
    "# Plot Training History\n",
    "plt.plot(history.history['loss'], label='loss')\n",
    "plt.plot(history.history['val_loss'], label = 'loss')\n",
    "plt.xlabel('Epoch')\n",
    "plt.ylabel('Accuracy')\n",
    "plt.ylim([0, 1])\n",
    "plt.legend(loc='lower right')\n",
    "plt.show()"
   ]
  },
  {
   "cell_type": "code",
   "execution_count": null,
   "id": "af22c587-bb4e-4bb7-ad7d-379e4e544db1",
   "metadata": {},
   "outputs": [],
   "source": []
  }
 ],
 "metadata": {
  "kernelspec": {
   "display_name": "Python 3",
   "language": "python",
   "name": "python3"
  },
  "language_info": {
   "codemirror_mode": {
    "name": "ipython",
    "version": 3
   },
   "file_extension": ".py",
   "mimetype": "text/x-python",
   "name": "python",
   "nbconvert_exporter": "python",
   "pygments_lexer": "ipython3",
   "version": "3.10.11"
  }
 },
 "nbformat": 4,
 "nbformat_minor": 5
}
